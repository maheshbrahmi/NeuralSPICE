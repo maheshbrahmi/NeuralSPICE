{
 "cells": [
  {
   "cell_type": "code",
   "execution_count": 6,
   "metadata": {},
   "outputs": [],
   "source": [
    "import math\n",
    "import pyvisa as visa\n",
    "import re\n",
    "import os \n",
    "import time\n",
    "\n",
    "# Numerics and plotting\n",
    "import ndfit\n",
    "import numpy as np\n",
    "import matplotlib.pyplot as plt\n",
    "import matplotlib as mpl\n",
    "import matplotlib.cm as cm\n",
    "import pandas as pd\n",
    "from datetime import datetime"
   ]
  },
  {
   "cell_type": "code",
   "execution_count": 7,
   "metadata": {},
   "outputs": [],
   "source": [
    "class HP4145A:\n",
    "\n",
    "    def __init__(self, resource_name):\n",
    "        \"\"\"\n",
    "        Initializes the driver with the VISA resource name of the instrument.\n",
    "        Args:resource_name: The VISA resource name of the instrument (e.g., 'GPIB0::16::INSTR')\n",
    "        \"\"\"\n",
    "        #self.instrument = pyvisa.ResourceManager().open_resource(resource_name)\n",
    "        self.rm = visa.ResourceManager()\n",
    "        print(self.rm.list_resources())\n",
    "        self.instrument = self.rm.open_resource(resource_name)\n",
    "        self.instrument.timeout = 30000 #30 sec timeout is in mSec\n",
    "        self.instrument.read_termination = '\\n'\n",
    "        self.instrument.write_termination = '\\n'\n",
    "        self.instrument.write(\"*RST\")\n",
    "        self.instrument.write(\"IT1 CA1 DR0 BC\") # set Integration time short, Auto Calibration ON, Data Ready OFF, Buffer Clear\n",
    "        #print(dir(self.instrument)) #what attributes are available on the object\n",
    "\n",
    "    def channelDefinition(self):\n",
    " \n",
    "\t\t## Select channel [DE]finition page\n",
    "        self.instrument.write(\"DE\")\n",
    "        self.instrument.write(\"DE CH1,'VE','IE',3,3\") ## Emitter Common constant\n",
    "        self.instrument.write(\"DE CH2,'VB','IB',2,2\") ## BASE SOURCE Current MODE VAR2 (VR2)\n",
    "        self.instrument.write(\"DE CH3,'VC','IC',1,1\") ## COLLECTOR SOURCE Voltage MODE VAR1 (VR1) Vary voltage \n",
    "       \n",
    "        ## Turn off other channels \n",
    "        self.instrument.write(\"DE CH4\")\n",
    "        self.instrument.write(\"DE VS1\")\n",
    "        self.instrument.write(\"DE VS2\")\n",
    "        self.instrument.write(\"DE VM1\")\n",
    "        self.instrument.write(\"DE VM2\")\n",
    "\n",
    "\n",
    "    def sweepVoltage(self,start, stop, step,compliance):\n",
    "\t\t## Select [S]weep [S]etup page  \n",
    "        self.instrument.write(\"SS\")\n",
    "\n",
    "        ## Set up the gate voltage variable. \n",
    "        CMD = \"VR1,%s,%s,%s,%s\"%(str(start).upper(), str(stop).upper(), str(step).upper(), str(compliance))\n",
    "        self.instrument.write(CMD)\n",
    "        self.number = np.abs(round((stop-start)/step,1))+1\n",
    "        # print(f\"VR1 start = {start}\")\n",
    "        # print(f\"VR1 step = {step}\")\n",
    "        # print(f\"VR! number = {self.number}\")\n",
    "        ## Return a list of the sweep variables\n",
    "        return list(np.linspace(start,stop,int(self.number)))\n",
    "\n",
    "    def stepCurrent(self,start,step,number,compliance):\n",
    "\t\t\t## Set up drain voltage setup\n",
    "        self.instrument.write(\"SS\")\n",
    "        CMD = \"IP %s,%s,%s,%s\"%(str(start).upper(), str(step).upper(), str(number), str(compliance))\n",
    "        # print(f\"IP start = {start}\")\n",
    "        # print(f\"IP step = {step}\")\n",
    "        # print(f\"IP number of points = {number}\")\n",
    "        self.instrument.write(CMD)\n",
    "\n",
    "    def setOutput(self):\n",
    "\t\t## Set up the list display. Note that if something is not in\n",
    "\t\t## the list we will not be able to request the data.\n",
    "        # self.instrument.write(\"SM\")  # measurement and display mode setup page\n",
    "        # self.instrument.write(\"DM2\")  # DM2 is List\n",
    "        # self.instrument.write(\"LI 'IC'\")\n",
    "        # self.instrument.write(\"'IB' 'IC'\")\n",
    "        self.instrument.write(\"SM DM2 LI 'IC','IB','VB'\")\n",
    "\n",
    "\t\t## Pack the independent parameter into a list and return it\n",
    "\t\t#current = list(np.linspace(start, stop, int((stop-start)/(step)), endpoint=False))\n",
    "\t\t#current.append(stop)\n",
    "\t\t#return current\n",
    "\n",
    "    def measureData(self):\n",
    "\t\t## Issue command to [M]easure [D]ata\n",
    "        self.instrument.write(\"MD ME1\")\n",
    "\t\t## Pause for the 4145B to populate the buffer with measurement\n",
    "\t\t## data. If there is no sleep, Python will issue the ask commend\n",
    "\t\t## before the measurement has been complete\n",
    "\n",
    "    def getDataIC(self):\n",
    "        #time.sleep(2)\n",
    "        ## Request data and transform it in to a list by splitting \n",
    "        ## on regular expression. Note that the slice operation is \n",
    "        ## needed because the first item in the list after re.split\n",
    "        ## is the empty string.\n",
    "        data = re.split(',*[NXCT]\\s*', self.instrument.query(\"DO 'IC'\"))[1:] \n",
    "        return [float(i) for i in data]\n",
    "\t\n",
    "    def getDataVB(self):\n",
    "        #time.sleep(2)\n",
    "        ## Request data and transform it in to a list by splitting \n",
    "        ## on regular expression. Note that the slice operation is \n",
    "        ## needed because the first item in the list after re.split\n",
    "        ## is the empty string.\n",
    "        data = re.split(',*[NXCT]\\s*', self.instrument.query(\"DO 'VB'\"))[1:] \n",
    "        return [float(i) for i in data]\n",
    "    \n",
    "    def getDataIE(self):\n",
    "        #time.sleep(2)\n",
    "        ## Request data and transform it in to a list by splitting \n",
    "        ## on regular expression. Note that the slice operation is \n",
    "        ## needed because the first item in the list after re.split\n",
    "        ## is the empty string.\n",
    "        data = re.split(',*[NXCT]\\s*', self.instrument.query(\"DO 'IE'\"))[1:] \n",
    "        return [float(i) for i in data]\n",
    "    \n",
    "    def captureData(self,variable):\n",
    "        time.sleep(2)\n",
    "        ## Request data and transform it in to a list by splitting \n",
    "        ## on regular expression. Note that the slice operation is \n",
    "        ## needed because the first item in the list after re.split\n",
    "        ## is the empty string.\n",
    "        data = re.split(',*[NXCT]\\s*', self.instrument.query(f\"DO '{variable}'\"))[1:] \n",
    "        return [float(i) for i in data]"
   ]
  },
  {
   "cell_type": "code",
   "execution_count": 8,
   "metadata": {},
   "outputs": [],
   "source": [
    "## Useful Generator Function \n",
    "def chunks(l, n):\n",
    "    for i in range(0, len(l), n):\n",
    "        yield l[i:i+n]\n"
   ]
  },
  {
   "cell_type": "code",
   "execution_count": 9,
   "metadata": {},
   "outputs": [
    {
     "name": "stdout",
     "output_type": "stream",
     "text": [
      "('ASRL1::INSTR', 'ASRL2::INSTR', 'GPIB0::19::INSTR')\n"
     ]
    }
   ],
   "source": [
    "resource_name = 'GPIB0::19::INSTR'  # Replace with your instrument's VISA resource name\n",
    "spa = HP4145A(resource_name)"
   ]
  },
  {
   "cell_type": "markdown",
   "metadata": {},
   "source": [
    "Channel Definition"
   ]
  },
  {
   "cell_type": "code",
   "execution_count": 10,
   "metadata": {},
   "outputs": [
    {
     "data": {
      "text/plain": [
       "7"
      ]
     },
     "execution_count": 10,
     "metadata": {},
     "output_type": "execute_result"
    }
   ],
   "source": [
    "spa.instrument.write(\"DE\")\n",
    "spa.instrument.write(\"DE CH1,'VB','IB',2,2\") ## BASE SOURCE Current MODE VAR2 (VR2)\n",
    "spa.instrument.write(\"DE CH4,'VE','IE',3,3\") ## Emitter Common constant\n",
    "spa.instrument.write(\"DE CH3,'VC','IC',1,1\") ## COLLECTOR SOURCE Voltage MODE VAR1 (VR1) Vary voltage \n",
    "\n",
    "## Turn off other channels \n",
    "spa.instrument.write(\"DE CH2\")\n",
    "spa.instrument.write(\"DE VS1\")\n",
    "spa.instrument.write(\"DE VS2\")\n",
    "spa.instrument.write(\"DE VM1\")\n",
    "spa.instrument.write(\"DE VM2\")"
   ]
  },
  {
   "cell_type": "code",
   "execution_count": 11,
   "metadata": {},
   "outputs": [],
   "source": [
    "# VC_start = 0\n",
    "# VC_stop = 5.0\n",
    "# VC_step = 0.01\n",
    "# VC_number = int((VC_stop-VC_start)/(VC_step))+1\n",
    "# VC_list = list(np.linspace(VC_start,VC_stop,VC_number))\n",
    "# print (f'VC_list = {[\"{0:0.3f}\".format(i) for i in VC_list]}')\n",
    "# print(f'VC_List length = {len(VC_list)}')\n",
    "# IB_start = 20E-6\n",
    "# IB_stop = 100E-6\n",
    "# IB_step = 100E-6\n",
    "# IB_number = int((IB_stop-IB_start)/(IB_step)) + 1\n",
    "# IB_list = list(np.linspace(IB_start,IB_stop,IB_number))\n",
    "# print (f'IB_list = {[\"{0:0.3e}\".format(i) for i in IB_list]}')\n",
    "# print(f'IB_List length = {len(IB_list)}')\n",
    "# ibx = list(np.linspace(IB_start,IB_stop,IB_number)) "
   ]
  },
  {
   "cell_type": "markdown",
   "metadata": {},
   "source": [
    "SOURCE SETUP"
   ]
  },
  {
   "cell_type": "code",
   "execution_count": 12,
   "metadata": {},
   "outputs": [],
   "source": [
    "# VCE = spa.sweepVoltage(VC_start,VC_stop,VC_step,100e-3) # setup sweep start, stop, step,compliance VR1\n",
    "# spa.stepCurrent(IB_start,IB_step,5,2) # start step number compliance"
   ]
  },
  {
   "cell_type": "markdown",
   "metadata": {},
   "source": [
    "LIST SETUP"
   ]
  },
  {
   "cell_type": "code",
   "execution_count": 13,
   "metadata": {},
   "outputs": [
    {
     "data": {
      "text/plain": [
       "15"
      ]
     },
     "execution_count": 13,
     "metadata": {},
     "output_type": "execute_result"
    }
   ],
   "source": [
    "spa.instrument.write(\"SM DM2 LI 'IC'\")"
   ]
  },
  {
   "cell_type": "markdown",
   "metadata": {},
   "source": [
    "GRAPHICS SETUP"
   ]
  },
  {
   "cell_type": "code",
   "execution_count": 14,
   "metadata": {},
   "outputs": [
    {
     "data": {
      "text/plain": [
       "39"
      ]
     },
     "execution_count": 14,
     "metadata": {},
     "output_type": "execute_result"
    }
   ],
   "source": [
    "spa.instrument.write(\"SM DM1 XN 'VC',1,0,10;YA 'IC',1,0,0.05\")"
   ]
  },
  {
   "cell_type": "code",
   "execution_count": 15,
   "metadata": {},
   "outputs": [
    {
     "name": "stdout",
     "output_type": "stream",
     "text": [
      "VC_List length = 51\n",
      "IB_list = ['2.000e-06']\n",
      "IB_List length = 1\n",
      "chunk_size = 501\n",
      "IB = 0.000002\n",
      "vc_list_length = 51\n",
      "    VC        IB        IC\n",
      "0  0.0  0.000002 -0.000002\n",
      "1  0.1  0.000002  0.000195\n",
      "2  0.2  0.000002  0.000369\n",
      "3  0.3  0.000002  0.000377\n",
      "Saving data to Filename: 2025_03_17-07_58_33_AM_IC.csv\n"
     ]
    },
    {
     "data": {
      "image/png": "[encoded data removed]",
      "text/plain": [
       "<Figure size 640x480 with 1 Axes>"
      ]
     },
     "metadata": {},
     "output_type": "display_data"
    }
   ],
   "source": [
    "VC_start = 0\n",
    "VC_stop = 5.0 #10\n",
    "VC_step = 0.001 #0.001\n",
    "VC_number = int((VC_stop-VC_start)/(VC_step))+1\n",
    "VC_list = list(np.linspace(VC_start,VC_stop,VC_number))\n",
    "#print (f'VC_list = {[\"{0:0.3f}\".format(i) for i in VC_list]}')\n",
    "print(f'VC_List length = {len(VC_list)}')\n",
    "IB_start = 1E-6 # change this back to 1E-6\n",
    "IB_stop = 100E-6 #100E-6\n",
    "IB_step = 1E-6 #1E-6\n",
    "IB_number = int((IB_stop-IB_start)/(IB_step)) + 1\n",
    "IB_list = list(np.linspace(IB_start,IB_stop,IB_number))\n",
    "print (f'IB_list = {[\"{0:0.3e}\".format(i) for i in IB_list]}')\n",
    "print(f'IB_List length = {len(IB_list)}')\n",
    "my_array = np.empty((0, 3), dtype=float)\n",
    "my_array1 = np.empty((0, 3), dtype=float)\n",
    "chunk_size = 501\n",
    "print(f'chunk_size = {chunk_size}')\n",
    "#spa.instrument.write(\"SM DM2 LI 'IC'\")\n",
    "## we have to extract data 501 numbers at a time - this is howmuch the machine can work  and do this for each Ib value\n",
    "for n,ib in enumerate(IB_list): # this is outer loop for each of this we can only get upto 501 data at time\n",
    "    print (\"%s %f\"%(\"IB =\", ib))\n",
    "    #print(f'chunk_size= {chunk_size}')\n",
    "    for i in range(0, len(VC_list), chunk_size):\n",
    "        vc_list = VC_list[i:i+chunk_size]\n",
    "        this_chunk_length = len(vc_list)\n",
    "        vc_start = VC_list[i]\n",
    "        vc_stop = VC_list[i+this_chunk_length-1]\n",
    "        vc_step = VC_step\n",
    "        # print(f'vc_start = {vc_start}')\n",
    "        # print(f'vc_stop = {vc_stop}')\n",
    "        print(f'vc_list_length = {this_chunk_length}')\n",
    "        VC = spa.sweepVoltage(vc_start,vc_stop,vc_step,100e-3) \n",
    "        spa.stepCurrent(ib,IB_step,1,2) #start,step,number,compliance\n",
    "        spa.instrument.write(\"SM DM2 LI 'IC'\") # List setup\n",
    "        spa.instrument.write(\"MD ME1\") # measure data\n",
    "        time.sleep(8)\n",
    "        IC = spa.getDataIC() # produces len number floating point list at a time\n",
    "        #VB = spa.getDataVB()\n",
    "        #IE = spa.getDataIE()\n",
    "        #print (f'IC = {[\"{0:0.3E}\".format(i) for i in IC]}')\n",
    "        # print(f'IC length = {len(IC)}')\n",
    "        IB= [ib] * len(VC)\n",
    "        # print(f'IB length = {len(IB)}')\n",
    "        for row in zip(VC,IB,IC):\n",
    "            my_array = np.vstack([my_array, row])\n",
    "        for row in zip(VC,IB,IC):\n",
    "            my_array1 = np.vstack([my_array1, row])\n",
    "        # print(my_array.shape)\n",
    "        # print(len(my_array1))\n",
    "    plt.plot(my_array1[:,0], my_array1[:,2], label =f'IB={ib}')\n",
    "    my_array1 = np.empty((0, 3), dtype=float)\n",
    "    plt.xlim([0, 10])\n",
    "    plt.ylim([0.0, 0.050])\n",
    "    plt.xlabel(\"VCE\")\n",
    "    plt.ylabel(\"IC\")\n",
    "    plt.title('IC-VC Curve')\n",
    "    plt.legend()\n",
    "    \n",
    "\n",
    "saveData=np.array(my_array)\n",
    "df = pd.DataFrame(saveData, columns=['VC','IB','IC'])\n",
    "print(df.head(4))\n",
    "filename1 = datetime.now().strftime(\"%Y_%m_%d-%I_%M_%S_%p\")\n",
    "filename = filename1+'_IC.csv'\n",
    "df.to_csv(filename, index=False, float_format='%.6E')\n",
    "df.to_csv(\"filename\", index=False)\n",
    "print(f\"Saving data to Filename: {filename}\")"
   ]
  },
  {
   "cell_type": "markdown",
   "metadata": {},
   "source": [
    "PLOT DATA"
   ]
  },
  {
   "cell_type": "code",
   "execution_count": null,
   "metadata": {},
   "outputs": [],
   "source": [
    "saveData=np.array(my_array)\n",
    "df = pd.DataFrame(saveData, columns=['VC','IB','IC'])\n",
    "#df = df['IE']\n",
    "print(df.head(4))\n",
    "filename1 = datetime.now().strftime(\"%Y_%m_%d-%I_%M_%S_%p\")\n",
    "filename = filename1+'_IC.csv'\n",
    "#df.to_csv(filename, index=False, float_format='%.6E')\n",
    "df.to_csv(filename, index=False)\n",
    "print(f\"Saving data to Filename: {filename}\")"
   ]
  },
  {
   "cell_type": "code",
   "execution_count": null,
   "metadata": {},
   "outputs": [],
   "source": [
    "# print(my_array[:,1])\n",
    "# plt.plot(my_array[:,0], my_array[:,2], label =f'IB={ib}')\n",
    "# plt.xlim([0, 10])\n",
    "# plt.ylim([0, 0.050])\n",
    "# plt.xlabel(\"VCE\")\n",
    "# plt.ylabel(\"IC\")\n",
    "# plt.legend()\n",
    "# plt.title('IV Curve')\n",
    "\n",
    "# plt.plot(my_array[:,0], my_array[:,2], label =f'IB={ib}')\n",
    "# my_array1 = np.empty((0, 3), dtype=float)\n",
    "# plt.xlim([0, 10])\n",
    "# plt.ylim([0, 0.050])\n",
    "# plt.xlabel(\"VCE\")\n",
    "# plt.ylabel(\"IC\")\n",
    "# plt.title('IV Curve')\n",
    "# plt.legend()\n",
    "\n",
    "saveData=np.array(my_array)\n",
    "df = pd.DataFrame(saveData, columns=['VC','IB','IC'])\n",
    "print(df.head(4))\n",
    "filename1 = datetime.now().strftime(\"%Y_%m_%d-%I_%M_%S_%p\")\n",
    "filename = filename1+'_IC.csv'\n",
    "#df.to_csv(filename, index=False, float_format='%.6E')\n",
    "df.to_csv(filename, index=False)\n",
    "print(f\"Saving data to Filename: {filename}\")\n",
    "\n",
    "\n",
    "# ax1.set_ylim(0.0, max(IC)+0.001)\n",
    "# #ax2.set_ylim(0.0, max(g0)+100)\n",
    "# ax1.set_xlabel(r\"Drain Voltage $(V_d)$\")\n",
    "# ax1.set_ylabel(r\"Drain Current $(I_d)$\")\n",
    "# #ax2.set_ylabel(r\"Output Conductance $(g_0)$\")\n",
    "\n",
    "# ## Fancy Colorbar\n",
    "# cmap = mpl.cm.cool\n",
    "# norm = mpl.colors.Normalize(min(ibx),max(ibx))\n",
    "# #ax2 = fig.add_axes([0.90, 0.1, 0.03, 0.8])\n",
    "# # cb1 = mpl.colorbar.ColorbarBase(ax2, cmap=cmap,\n",
    "# #                         norm=norm,\n",
    "# #                         orientation='vertical')\n",
    "\n",
    "# # cb1.set_label(r\"Gate Voltage $(V_g)$\")\n",
    "# plt.show()"
   ]
  },
  {
   "cell_type": "code",
   "execution_count": null,
   "metadata": {},
   "outputs": [],
   "source": [
    "# spa.instrument.write(\"*RST\")\n",
    "# spa.instrument.close()\n",
    "#spa.instrument.write(\"US\")\n",
    "spa.rm.close()"
   ]
  }
 ],
 "metadata": {
  "kernelspec": {
   "display_name": "Python 3",
   "language": "python",
   "name": "python3"
  },
  "language_info": {
   "codemirror_mode": {
    "name": "ipython",
    "version": 3
   },
   "file_extension": ".py",
   "mimetype": "text/x-python",
   "name": "python",
   "nbconvert_exporter": "python",
   "pygments_lexer": "ipython3",
   "version": "3.9.13"
  }
 },
 "nbformat": 4,
 "nbformat_minor": 2
}
